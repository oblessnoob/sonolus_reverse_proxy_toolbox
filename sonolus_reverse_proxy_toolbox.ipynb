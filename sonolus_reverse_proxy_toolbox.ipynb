{
  "nbformat": 4,
  "nbformat_minor": 0,
  "metadata": {
    "colab": {
      "provenance": []
    },
    "kernelspec": {
      "name": "python3",
      "display_name": "Python 3"
    },
    "language_info": {
      "name": "python"
    }
  },
  "cells": [
    {
      "cell_type": "markdown",
      "source": [
        "全局函数"
      ],
      "metadata": {
        "id": "V1sAwGBpoAZi"
      }
    },
    {
      "cell_type": "code",
      "execution_count": null,
      "metadata": {
        "id": "PuQBPr-Bn67h"
      },
      "outputs": [],
      "source": [
        "def bpm_to_time(bpm, ratio = 1):\n",
        "    return 60 / bpm * ratio"
      ]
    }
  ]
}
