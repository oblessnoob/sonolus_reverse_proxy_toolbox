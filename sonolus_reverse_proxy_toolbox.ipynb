{
  "cells": [
    {
      "attachments": {},
      "cell_type": "markdown",
      "metadata": {
        "id": "V1sAwGBpoAZi"
      },
      "source": [
        "全局函数"
      ]
    },
    {
      "cell_type": "code",
      "execution_count": null,
      "metadata": {
        "id": "PuQBPr-Bn67h"
      },
      "outputs": [],
      "source": [
        "from pprint import pprint\n",
        "\n",
        "def to_time(value, ratio = 1):\n",
        "    return 60 / value * ratio\n",
        "\n",
        "to_bpm = to_time"
      ]
    },
    {
      "attachments": {},
      "cell_type": "markdown",
      "metadata": {
        "id": "GqOTgsmlCi07"
      },
      "source": [
        "类"
      ]
    },
    {
      "cell_type": "code",
      "execution_count": null,
      "metadata": {
        "id": "y38BCHgoCoSE"
      },
      "outputs": [],
      "source": [
        "class SonolusServer():\n",
        "    pass"
      ]
    },
    {
      "attachments": {},
      "cell_type": "markdown",
      "metadata": {
        "id": "TDBYmk8rXy6m"
      },
      "source": [
        "客户端"
      ]
    },
    {
      "cell_type": "code",
      "execution_count": null,
      "metadata": {
        "id": "hsTTmphZX1o7"
      },
      "outputs": [],
      "source": [
        "# import urllib\n",
        "# import urllib.request\n",
        "import urllib.error\n",
        "import urllib.parse\n",
        "\n",
        "# pprint(urllib.parse.urlparse('https://servers.sonolus.com/pjsekai/sonolus/info?localization=zhs'))\n"
      ]
    },
    {
      "attachments": {},
      "cell_type": "markdown",
      "metadata": {
        "id": "A3-MuHDdX2SF"
      },
      "source": [
        "服务端"
      ]
    },
    {
      "cell_type": "code",
      "execution_count": null,
      "metadata": {
        "id": "NApIZILvX40w"
      },
      "outputs": [],
      "source": [
        "import http\n",
        "import http.server\n",
        "import http.client\n",
        "import gzip\n",
        "import json\n",
        "\n",
        "class toolbox_handler(http.server.BaseHTTPRequestHandler):\n",
        "    def do_GET(self):\n",
        "        # pprint(self.path)\n",
        "        # pprint(self.headers)\n",
        "        # pprint(self.command)\n",
        "        self.headers.replace_header('Host', HOST)\n",
        "        \n",
        "        # https://servers.sonolus.com/pjsekai/sonolus/levels/pjsekai-315-782-master/data?1.1.0\n",
        "\n",
        "        connection = http.client.HTTPSConnection(host = HOST)\n",
        "        connection.request(method = self.command, url = self.path, headers = self.headers)\n",
        "        response = connection.getresponse()\n",
        "        connection.close()\n",
        "\n",
        "        self.send_response(response.status)\n",
        "\n",
        "        for k, v in response.getheaders():\n",
        "            if k == 'Sonolus-Version':\n",
        "                self.send_header(k, v)\n",
        "            \n",
        "            if k == 'Content-Type':\n",
        "                self.send_header(k, v)\n",
        "                # if 'json' in v:\n",
        "                #     is_json = True\n",
        "            \n",
        "            if k == 'Content-Encoding':\n",
        "                self.send_header(k, v)\n",
        "                # if v == 'gzip':\n",
        "                #     is_gzip = True\n",
        "        \n",
        "        self.end_headers()\n",
        "        \n",
        "        if self.path == '/pjsekai/sonolus/levels/pjsekai-315-782-master/data?1.1.0':\n",
        "            content = json.loads(gzip.decompress(response.read()))\n",
        "            content['entities'].sort(key = lambda e:e['data'][0]['value'] if e['data'] != [] and e['data'][0]['name'] == '#BEAT' else -1)\n",
        "            self.wfile.write(json.dumps(content))\n",
        "\n",
        "        self.wfile.write(response.read())\n",
        "\n",
        "    def do_POST(self):\n",
        "        # pprint(self.path)\n",
        "        # pprint(self.headers)\n",
        "        # pprint(self.command)\n",
        "        pass"
      ]
    },
    {
      "attachments": {},
      "cell_type": "markdown",
      "metadata": {
        "id": "ZEgndwFFZgW3"
      },
      "source": [
        "主函数"
      ]
    },
    {
      "cell_type": "code",
      "execution_count": null,
      "metadata": {
        "id": "TB5vLpu2ZjIx"
      },
      "outputs": [],
      "source": [
        "PORT = 9639\n",
        "HOST = 'servers.sonolus.com'\n",
        "\n",
        "toolbox_server = http.server.ThreadingHTTPServer(('', PORT), toolbox_handler)\n",
        "\n",
        "toolbox_server.serve_forever()"
      ]
    },
    {
      "attachments": {},
      "cell_type": "markdown",
      "metadata": {
        "id": "VZjWmJajZjuy"
      },
      "source": [
        "测试"
      ]
    },
    {
      "cell_type": "code",
      "execution_count": null,
      "metadata": {
        "id": "oI4tBWXiZknW"
      },
      "outputs": [],
      "source": [
        "import unittest"
      ]
    }
  ],
  "metadata": {
    "colab": {
      "provenance": []
    },
    "kernelspec": {
      "display_name": "Python 3",
      "name": "python3"
    },
    "language_info": {
      "codemirror_mode": {
        "name": "ipython",
        "version": 3
      },
      "file_extension": ".py",
      "mimetype": "text/x-python",
      "name": "python",
      "nbconvert_exporter": "python",
      "pygments_lexer": "ipython3",
      "version": "3.10.8"
    }
  },
  "nbformat": 4,
  "nbformat_minor": 0
}
