{
  "cells": [
    {
      "attachments": {},
      "cell_type": "markdown",
      "metadata": {
        "id": "V1sAwGBpoAZi"
      },
      "source": [
        "全局函数"
      ]
    },
    {
      "cell_type": "code",
      "execution_count": null,
      "metadata": {
        "id": "PuQBPr-Bn67h"
      },
      "outputs": [],
      "source": [
        "from pprint import pprint\n",
        "\n",
        "def to_time(value, ratio = 1):\n",
        "    return 60 / value * ratio\n",
        "\n",
        "to_bpm = to_time"
      ]
    },
    {
      "attachments": {},
      "cell_type": "markdown",
      "metadata": {
        "id": "GqOTgsmlCi07"
      },
      "source": [
        "类"
      ]
    },
    {
      "cell_type": "code",
      "execution_count": null,
      "metadata": {
        "id": "y38BCHgoCoSE"
      },
      "outputs": [],
      "source": [
        "class SonolusServer():\n",
        "    pass"
      ]
    },
    {
      "attachments": {},
      "cell_type": "markdown",
      "metadata": {
        "id": "TDBYmk8rXy6m"
      },
      "source": [
        "客户端"
      ]
    },
    {
      "cell_type": "code",
      "execution_count": null,
      "metadata": {
        "id": "hsTTmphZX1o7"
      },
      "outputs": [],
      "source": [
        "import urllib\n",
        "import urllib.request\n",
        "import urllib.error\n",
        "import urllib.parse\n",
        "\n",
        "# pprint(urllib.parse.urlparse('https://servers.sonolus.com/pjsekai/sonolus/info?localization=zhs'))\n",
        "\n"
      ]
    },
    {
      "attachments": {},
      "cell_type": "markdown",
      "metadata": {
        "id": "A3-MuHDdX2SF"
      },
      "source": [
        "服务端"
      ]
    },
    {
      "cell_type": "code",
      "execution_count": null,
      "metadata": {
        "id": "NApIZILvX40w"
      },
      "outputs": [],
      "source": [
        "import http\n",
        "import http.server\n",
        "\n",
        "class toolbox_handler(http.server.BaseHTTPRequestHandler):\n",
        "    def do_GET(self):\n",
        "        pprint(self.path)\n",
        "        pprint(self.headers)\n",
        "        pprint(self.command)\n",
        "        self.headers.replace_header('Host', 'servers.sonolus.com')\n",
        "\n",
        "        r = urllib.request.Request(url = 'https://servers.sonolus.com' + self.path, headers = self.headers, method = self.command)\n",
        "\n",
        "        with urllib.request.urlopen(url = r) as result:\n",
        "            pprint(result)\n",
        "    def do_POST(self):\n",
        "        pprint(self.path)\n",
        "        pprint(self.headers)\n",
        "        pprint(self.command)"
      ]
    },
    {
      "attachments": {},
      "cell_type": "markdown",
      "metadata": {
        "id": "ZEgndwFFZgW3"
      },
      "source": [
        "主函数"
      ]
    },
    {
      "cell_type": "code",
      "execution_count": null,
      "metadata": {
        "id": "TB5vLpu2ZjIx"
      },
      "outputs": [],
      "source": [
        "port = 9639\n",
        "\n",
        "toolbox_server = http.server.ThreadingHTTPServer(('', port), toolbox_handler)\n",
        "\n",
        "toolbox_server.serve_forever()"
      ]
    },
    {
      "attachments": {},
      "cell_type": "markdown",
      "metadata": {
        "id": "VZjWmJajZjuy"
      },
      "source": [
        "测试"
      ]
    },
    {
      "cell_type": "code",
      "execution_count": null,
      "metadata": {
        "id": "oI4tBWXiZknW"
      },
      "outputs": [],
      "source": [
        "import unittest"
      ]
    }
  ],
  "metadata": {
    "colab": {
      "provenance": []
    },
    "kernelspec": {
      "display_name": "Python 3",
      "name": "python3"
    },
    "language_info": {
      "name": "python"
    }
  },
  "nbformat": 4,
  "nbformat_minor": 0
}
