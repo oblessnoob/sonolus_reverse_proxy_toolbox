{
  "cells": [
    {
      "attachments": {},
      "cell_type": "markdown",
      "metadata": {
        "id": "V1sAwGBpoAZi"
      },
      "source": [
        "全局函数"
      ]
    },
    {
      "cell_type": "code",
      "execution_count": 1,
      "metadata": {
        "id": "PuQBPr-Bn67h"
      },
      "outputs": [],
      "source": [
        "from pprint import pprint\n",
        "\n",
        "def to_time(value, ratio = 1):\n",
        "    return 60 / value * ratio\n",
        "\n",
        "to_bpm = to_time"
      ]
    },
    {
      "attachments": {},
      "cell_type": "markdown",
      "metadata": {
        "id": "GqOTgsmlCi07"
      },
      "source": [
        "类"
      ]
    },
    {
      "cell_type": "code",
      "execution_count": 2,
      "metadata": {
        "id": "y38BCHgoCoSE"
      },
      "outputs": [],
      "source": [
        "class SonolusServer():\n",
        "    pass"
      ]
    },
    {
      "attachments": {},
      "cell_type": "markdown",
      "metadata": {
        "id": "TDBYmk8rXy6m"
      },
      "source": [
        "客户端"
      ]
    },
    {
      "cell_type": "code",
      "execution_count": 3,
      "metadata": {
        "id": "hsTTmphZX1o7"
      },
      "outputs": [],
      "source": [
        "# import urllib\n",
        "# import urllib.request\n",
        "import urllib.error\n",
        "import urllib.parse\n",
        "\n",
        "# pprint(urllib.parse.urlparse('https://servers.sonolus.com/pjsekai/sonolus/info?localization=zhs'))\n"
      ]
    },
    {
      "attachments": {},
      "cell_type": "markdown",
      "metadata": {
        "id": "A3-MuHDdX2SF"
      },
      "source": [
        "服务端"
      ]
    },
    {
      "cell_type": "code",
      "execution_count": 4,
      "metadata": {
        "id": "NApIZILvX40w"
      },
      "outputs": [],
      "source": [
        "import http\n",
        "import http.server\n",
        "import http.client\n",
        "import gzip\n",
        "import json\n",
        "\n",
        "class toolbox_handler(http.server.BaseHTTPRequestHandler):\n",
        "    def do_GET(self):\n",
        "        # pprint(self.path)\n",
        "        # pprint(self.headers)\n",
        "        # pprint(self.command)\n",
        "        self.headers.replace_header('Host', HOST)\n",
        "        \n",
        "        # https://servers.sonolus.com/pjsekai/sonolus/levels/pjsekai-315-782-master/data?1.1.0\n",
        "        # /pjsekai/sonolus/levels/pjsekai-315-782-master/data?1.1.0\n",
        "        \n",
        "        connection = http.client.HTTPSConnection(host = HOST)\n",
        "        connection.request(method = self.command, url = self.path, headers = self.headers)\n",
        "        response = connection.getresponse()\n",
        "\n",
        "        self.send_response(response.status)\n",
        "\n",
        "        for k, v in response.getheaders():\n",
        "            if k == 'Sonolus-Version':\n",
        "                self.send_header(k, v)\n",
        "            \n",
        "            if k == 'Content-Type':\n",
        "                self.send_header(k, v)\n",
        "                # if 'json' in v:\n",
        "                #     is_json = True\n",
        "            \n",
        "            if k == 'Content-Encoding':\n",
        "                self.send_header(k, v)\n",
        "                # if v == 'gzip':\n",
        "                #     is_gzip = True\n",
        "        \n",
        "        self.end_headers()\n",
        "        \n",
        "        if self.path == '/pjsekai/sonolus/levels/pjsekai-315-782-master/data?1.1.0':\n",
        "            content = json.loads(gzip.decompress(response.read()).decode())\n",
        "            content['entities'].sort(key = lambda e:e['data'][0]['value'] if e['data'] != [] and e['data'][0]['name'] == '#BEAT' else -1)\n",
        "            self.wfile.write(json.dumps(content).encode())\n",
        "\n",
        "        # pprint(gzip.decompress(response.read()).decode())\n",
        "\n",
        "        else:\n",
        "            self.wfile.write(response.read())\n",
        "        connection.close()\n",
        "\n",
        "    def do_POST(self):\n",
        "        # pprint(self.path)\n",
        "        # pprint(self.headers)\n",
        "        # pprint(self.command)\n",
        "        pass"
      ]
    },
    {
      "attachments": {},
      "cell_type": "markdown",
      "metadata": {
        "id": "ZEgndwFFZgW3"
      },
      "source": [
        "主函数"
      ]
    },
    {
      "cell_type": "code",
      "execution_count": 5,
      "metadata": {
        "id": "TB5vLpu2ZjIx"
      },
      "outputs": [
        {
          "name": "stderr",
          "output_type": "stream",
          "text": [
            "127.0.0.1 - - [29/Jun/2023 09:52:56] \"GET /pjsekai/sonolus/levels/pjsekai-315-782-master/data?1.1.0 HTTP/1.1\" 200 -\n"
          ]
        },
        {
          "ename": "KeyboardInterrupt",
          "evalue": "",
          "output_type": "error",
          "traceback": [
            "\u001b[0;31m---------------------------------------------------------------------------\u001b[0m",
            "\u001b[0;31mKeyboardInterrupt\u001b[0m                         Traceback (most recent call last)",
            "Cell \u001b[0;32mIn[5], line 6\u001b[0m\n\u001b[1;32m      2\u001b[0m HOST \u001b[39m=\u001b[39m \u001b[39m'\u001b[39m\u001b[39mservers.sonolus.com\u001b[39m\u001b[39m'\u001b[39m\n\u001b[1;32m      4\u001b[0m toolbox_server \u001b[39m=\u001b[39m http\u001b[39m.\u001b[39mserver\u001b[39m.\u001b[39mThreadingHTTPServer((\u001b[39m'\u001b[39m\u001b[39m'\u001b[39m, PORT), toolbox_handler)\n\u001b[0;32m----> 6\u001b[0m toolbox_server\u001b[39m.\u001b[39;49mserve_forever()\n",
            "File \u001b[0;32m~/.python/current/lib/python3.10/socketserver.py:232\u001b[0m, in \u001b[0;36mBaseServer.serve_forever\u001b[0;34m(self, poll_interval)\u001b[0m\n\u001b[1;32m    229\u001b[0m selector\u001b[39m.\u001b[39mregister(\u001b[39mself\u001b[39m, selectors\u001b[39m.\u001b[39mEVENT_READ)\n\u001b[1;32m    231\u001b[0m \u001b[39mwhile\u001b[39;00m \u001b[39mnot\u001b[39;00m \u001b[39mself\u001b[39m\u001b[39m.\u001b[39m__shutdown_request:\n\u001b[0;32m--> 232\u001b[0m     ready \u001b[39m=\u001b[39m selector\u001b[39m.\u001b[39;49mselect(poll_interval)\n\u001b[1;32m    233\u001b[0m     \u001b[39m# bpo-35017: shutdown() called during select(), exit immediately.\u001b[39;00m\n\u001b[1;32m    234\u001b[0m     \u001b[39mif\u001b[39;00m \u001b[39mself\u001b[39m\u001b[39m.\u001b[39m__shutdown_request:\n",
            "File \u001b[0;32m~/.python/current/lib/python3.10/selectors.py:416\u001b[0m, in \u001b[0;36m_PollLikeSelector.select\u001b[0;34m(self, timeout)\u001b[0m\n\u001b[1;32m    414\u001b[0m ready \u001b[39m=\u001b[39m []\n\u001b[1;32m    415\u001b[0m \u001b[39mtry\u001b[39;00m:\n\u001b[0;32m--> 416\u001b[0m     fd_event_list \u001b[39m=\u001b[39m \u001b[39mself\u001b[39;49m\u001b[39m.\u001b[39;49m_selector\u001b[39m.\u001b[39;49mpoll(timeout)\n\u001b[1;32m    417\u001b[0m \u001b[39mexcept\u001b[39;00m \u001b[39mInterruptedError\u001b[39;00m:\n\u001b[1;32m    418\u001b[0m     \u001b[39mreturn\u001b[39;00m ready\n",
            "\u001b[0;31mKeyboardInterrupt\u001b[0m: "
          ]
        }
      ],
      "source": [
        "PORT = 9639\n",
        "HOST = 'servers.sonolus.com'\n",
        "\n",
        "toolbox_server = http.server.ThreadingHTTPServer(('', PORT), toolbox_handler)\n",
        "\n",
        "toolbox_server.serve_forever()"
      ]
    },
    {
      "attachments": {},
      "cell_type": "markdown",
      "metadata": {
        "id": "VZjWmJajZjuy"
      },
      "source": [
        "测试"
      ]
    },
    {
      "cell_type": "code",
      "execution_count": null,
      "metadata": {
        "id": "oI4tBWXiZknW"
      },
      "outputs": [],
      "source": [
        "import unittest"
      ]
    }
  ],
  "metadata": {
    "colab": {
      "provenance": []
    },
    "kernelspec": {
      "display_name": "Python 3",
      "name": "python3"
    },
    "language_info": {
      "codemirror_mode": {
        "name": "ipython",
        "version": 3
      },
      "file_extension": ".py",
      "mimetype": "text/x-python",
      "name": "python",
      "nbconvert_exporter": "python",
      "pygments_lexer": "ipython3",
      "version": "3.10.8"
    }
  },
  "nbformat": 4,
  "nbformat_minor": 0
}
