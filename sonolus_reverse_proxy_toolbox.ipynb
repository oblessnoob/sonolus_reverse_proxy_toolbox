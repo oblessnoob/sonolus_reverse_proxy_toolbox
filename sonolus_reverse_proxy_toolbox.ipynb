{
  "nbformat": 4,
  "nbformat_minor": 0,
  "metadata": {
    "colab": {
      "provenance": []
    },
    "kernelspec": {
      "name": "python3",
      "display_name": "Python 3"
    },
    "language_info": {
      "name": "python"
    }
  },
  "cells": [
    {
      "cell_type": "markdown",
      "source": [
        "全局函数"
      ],
      "metadata": {
        "id": "V1sAwGBpoAZi"
      }
    },
    {
      "cell_type": "code",
      "execution_count": null,
      "metadata": {
        "id": "PuQBPr-Bn67h"
      },
      "outputs": [],
      "source": [
        "def bpm_to_time(bpm, ratio = 1):\n",
        "    return 60 / bpm * ratio\n",
        "\n",
        "def time_to_bpm(time, ratio = 1):\n",
        "    return 60 / time * ratio"
      ]
    },
    {
      "cell_type": "markdown",
      "source": [
        "类"
      ],
      "metadata": {
        "id": "GqOTgsmlCi07"
      }
    },
    {
      "cell_type": "code",
      "source": [
        "class SonolusServer():\n",
        "    __slots__ = ()"
      ],
      "metadata": {
        "id": "y38BCHgoCoSE"
      },
      "execution_count": null,
      "outputs": []
    },
    {
      "cell_type": "markdown",
      "source": [
        "客户端"
      ],
      "metadata": {
        "id": "TDBYmk8rXy6m"
      }
    },
    {
      "cell_type": "code",
      "source": [
        "import urllib\n",
        "import urllib.request\n",
        "import urllib.error\n",
        "import urllib.parse"
      ],
      "metadata": {
        "id": "hsTTmphZX1o7"
      },
      "execution_count": null,
      "outputs": []
    },
    {
      "cell_type": "markdown",
      "source": [
        "服务端"
      ],
      "metadata": {
        "id": "A3-MuHDdX2SF"
      }
    },
    {
      "cell_type": "code",
      "source": [
        "import http\n",
        "import http.server"
      ],
      "metadata": {
        "id": "NApIZILvX40w"
      },
      "execution_count": null,
      "outputs": []
    },
    {
      "cell_type": "markdown",
      "source": [
        "主函数"
      ],
      "metadata": {
        "id": "ZEgndwFFZgW3"
      }
    },
    {
      "cell_type": "code",
      "source": [
        "port = 9639\n",
        "\n",
        "from google.colab.output import eval_js\n",
        "print(eval_js( \"google.colab.kernel.proxyPort(\" + str(port) + \")\" ))"
      ],
      "metadata": {
        "id": "TB5vLpu2ZjIx"
      },
      "execution_count": null,
      "outputs": []
    },
    {
      "cell_type": "markdown",
      "source": [
        "测试"
      ],
      "metadata": {
        "id": "VZjWmJajZjuy"
      }
    },
    {
      "cell_type": "code",
      "source": [
        "import unittest"
      ],
      "metadata": {
        "id": "oI4tBWXiZknW"
      },
      "execution_count": null,
      "outputs": []
    }
  ]
}